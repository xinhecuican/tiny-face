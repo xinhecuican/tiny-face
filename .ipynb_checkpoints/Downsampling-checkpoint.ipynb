{
 "cells": [
  {
   "cell_type": "code",
   "execution_count": null,
   "metadata": {},
   "outputs": [],
   "source": [
    "import sys\n",
    "import evaluate\n",
    "\n",
    "from metrics import *\n",
    "import tensorflow as tf\n",
    "import matplotlib.pyplot as plt\n",
    "import matplotlib.patches as patches\n",
    "from sklearn.metrics import mean_squared_error as mse\n",
    "import glob\n",
    "import os\n",
    "import cv2\n",
    "import pandas as pd\n",
    "from sklearn.svm import SVC\n",
    "import numpy as np\n",
    "import imp\n",
    "import time\n",
    "import random\n",
    "import dlib\n",
    "from imgaug import augmenters as iaa\n",
    "#imp.reload(tiny)\n",
    "import metrics\n",
    "imp.reload(metrics)\n",
    "imp.reload(evaluate)\n",
    "%matplotlib inline"
   ]
  },
  {
   "cell_type": "code",
   "execution_count": null,
   "metadata": {},
   "outputs": [],
   "source": [
    "weights_path = './Tiny_Faces_in_Tensorflow/hr_res101.pkl'\n",
    "data_dir = './tiny/data/widerface/WIDER_val/images/28--Sports_Fan/'\n",
    "out_dir = './Tiny_Faces_in_Tensorflow/out_test/'"
   ]
  },
  {
   "cell_type": "code",
   "execution_count": null,
   "metadata": {},
   "outputs": [],
   "source": [
    "data_folder = './tiny/data/widerface/WIDER_val/images/'"
   ]
  },
  {
   "cell_type": "code",
   "execution_count": 6,
   "metadata": {},
   "outputs": [
    {
     "ename": "IndexError",
     "evalue": "list index out of range",
     "output_type": "error",
     "traceback": [
      "\u001b[1;31m---------------------------------------------------------------------------\u001b[0m",
      "\u001b[1;31mIndexError\u001b[0m                                Traceback (most recent call last)",
      "\u001b[1;32m~\\AppData\\Local\\Temp/ipykernel_5904/665113397.py\u001b[0m in \u001b[0;36m<module>\u001b[1;34m\u001b[0m\n\u001b[1;32m----> 1\u001b[1;33m \u001b[0mframe\u001b[0m \u001b[1;33m=\u001b[0m \u001b[0mglob\u001b[0m\u001b[1;33m.\u001b[0m\u001b[0mglob\u001b[0m\u001b[1;33m(\u001b[0m\u001b[0mdata_dir\u001b[0m\u001b[1;33m+\u001b[0m\u001b[1;34m'*'\u001b[0m\u001b[1;33m)\u001b[0m\u001b[1;33m[\u001b[0m\u001b[1;36m15\u001b[0m\u001b[1;33m]\u001b[0m\u001b[1;33m\u001b[0m\u001b[1;33m\u001b[0m\u001b[0m\n\u001b[0m\u001b[0;32m      2\u001b[0m \u001b[0moriginal_image\u001b[0m \u001b[1;33m=\u001b[0m \u001b[0mcv2\u001b[0m\u001b[1;33m.\u001b[0m\u001b[0mimread\u001b[0m\u001b[1;33m(\u001b[0m\u001b[0mframe\u001b[0m\u001b[1;33m)\u001b[0m\u001b[1;33m[\u001b[0m\u001b[1;33m:\u001b[0m\u001b[1;33m,\u001b[0m\u001b[1;33m:\u001b[0m\u001b[1;33m,\u001b[0m\u001b[1;33m:\u001b[0m\u001b[1;33m:\u001b[0m\u001b[1;33m-\u001b[0m\u001b[1;36m1\u001b[0m\u001b[1;33m]\u001b[0m\u001b[1;33m\u001b[0m\u001b[1;33m\u001b[0m\u001b[0m\n",
      "\u001b[1;31mIndexError\u001b[0m: list index out of range"
     ]
    }
   ],
   "source": [
    "frame = glob.glob(data_dir+'*')[15]\n",
    "original_image = cv2.imread(frame)[:,:,::-1]"
   ]
  },
  {
   "cell_type": "markdown",
   "metadata": {},
   "source": [
    "### Annotations"
   ]
  },
  {
   "cell_type": "code",
   "execution_count": null,
   "metadata": {},
   "outputs": [],
   "source": [
    "with open('./tiny/data/widerface/wider_face_val_bbx_gt.txt') as f:\n",
    "    annotation_file = [k.strip() for k in f.readlines()]"
   ]
  },
  {
   "cell_type": "code",
   "execution_count": null,
   "metadata": {},
   "outputs": [],
   "source": [
    "# open annotations\n",
    "image_name = [k for k in annotation_file if '--' in k]\n",
    "original_annot = {} \n",
    "# original_annot[name] = [(x1, y1, w, h, blur, expression, illumination, invalid, occlusion, pose)]\n",
    "for name in image_name:\n",
    "    n_index = annotation_file.index(name)\n",
    "    n_pictures = int(annotation_file[n_index+1])\n",
    "    original_annot[name] = annotation_file[n_index+2:n_index+2+n_pictures]"
   ]
  },
  {
   "cell_type": "code",
   "execution_count": null,
   "metadata": {},
   "outputs": [],
   "source": [
    "resized_annot = {}\n",
    "dico_img = {}\n",
    "\n",
    "# resizing ground truth and images\n",
    "for r in [1, 2, 4, 8]:\n",
    "    resized_annot[r] = {}\n",
    "    for name, value in original_annot.items():\n",
    "        temp = []\n",
    "        for l in value:\n",
    "            (x1, y1, w, h, _, _, _, _, _, _) = map(int, l.split())\n",
    "            temp.append(list(map(lambda x:int(x/r), (x1, y1, w, h))))\n",
    "        resized_annot[r][name] = temp\n",
    "        \n",
    "    resized_shape = tuple(map(lambda x:int(x/r), original_image.shape[:2]))\n",
    "    dico_img[r] = cv2.resize(original_image, resized_shape[::-1])"
   ]
  },
  {
   "cell_type": "code",
   "execution_count": null,
   "metadata": {},
   "outputs": [],
   "source": [
    "predictions = {}\n",
    "for rate, elem in dico_img.items():\n",
    "    with tf.Graph().as_default():\n",
    "        predictions[rate] = evaluate.evaluate(weight_file_path=weights_path, img=elem)"
   ]
  },
  {
   "cell_type": "markdown",
   "metadata": {},
   "source": [
    "### Plotting bounding box for 1 image"
   ]
  },
  {
   "cell_type": "code",
   "execution_count": null,
   "metadata": {},
   "outputs": [],
   "source": [
    "pic = frame.replace(data_dir, '')\n",
    "img_truth = cv2.imread(data_folder + get_folder_name(pic) + pic)[:,:,::-1]"
   ]
  },
  {
   "cell_type": "code",
   "execution_count": null,
   "metadata": {
    "scrolled": true
   },
   "outputs": [],
   "source": [
    "f, ax = plt.subplots(figsize=(15,20), nrows=4)\n",
    "\n",
    "# plot the ground truth bounding boxes\n",
    "for i, (rate, values) in enumerate(resized_annot.items()):\n",
    "    ax[i].imshow(dico_img[rate])\n",
    "    ax[i].set_title('Image at scale %.2f' % (1/rate))\n",
    "    # ground truth\n",
    "    for k in values[get_folder_name(pic) + pic]:\n",
    "        (x1, y1, w, h) = k\n",
    "        rect = patches.Rectangle((x1, y1), w, h,linewidth=2,edgecolor='g',facecolor='none')\n",
    "        ax[i].add_patch(rect)\n",
    "    # pred\n",
    "    for k in predictions[rate]:\n",
    "        x1, y1 = k[:2]\n",
    "        w, h = k[2] - k[0], k[3] - k[1]\n",
    "        rect = patches.Rectangle((x1,y1),w, h,linewidth=2,edgecolor='r',facecolor='none')\n",
    "        ax[i].add_patch(rect)\n",
    "    #ax.text(x1-5, y1-5, '%.2f' % jd, color='r')\n"
   ]
  },
  {
   "cell_type": "markdown",
   "metadata": {},
   "source": [
    "## Metrics for all the class"
   ]
  },
  {
   "cell_type": "code",
   "execution_count": null,
   "metadata": {},
   "outputs": [],
   "source": [
    "resized_annot = {}\n",
    "dico_img = {}\n",
    "\n",
    "# resizing ground truth and images\n",
    "for r in np.arange(1,10.5,0.5):\n",
    "    resized_annot[r] = {}\n",
    "    dico_img[r] = {}\n",
    "    for name, value in original_annot.items():\n",
    "        if '28--Sports_Fan' in name:\n",
    "            temp = []\n",
    "            for l in value:\n",
    "                (x1, y1, w, h, _, _, _, _, _, _) = map(int, l.split())\n",
    "                temp.append(list(map(lambda x:int(x/r), (x1, y1, w, h))))\n",
    "            resized_annot[r][name] = temp\n",
    "\n",
    "            orig_img = cv2.imread(data_folder + name)\n",
    "            resized_shape = tuple(map(lambda x:int(x/r), orig_img.shape[:2]))\n",
    "            dico_img[r][name] = cv2.resize(orig_img, resized_shape[::-1])"
   ]
  },
  {
   "cell_type": "code",
   "execution_count": null,
   "metadata": {},
   "outputs": [],
   "source": [
    "predictions = {}\n",
    "list_imgs = {}\n",
    "for rate, img_list in dico_img.items():\n",
    "    list_imgs[rate] = []\n",
    "    for name in glob.glob(data_dir + '*'):\n",
    "        img = img_list[name.replace(data_folder, '')]\n",
    "        list_imgs[rate].append(img)"
   ]
  },
  {
   "cell_type": "code",
   "execution_count": null,
   "metadata": {},
   "outputs": [],
   "source": [
    "imp.reload(evaluate)\n",
    "tic = time.time()   \n",
    "for r in dico_img :\n",
    "    with tf.Graph().as_default():\n",
    "        preds = evaluate.evaluate(weight_file_path=weights_path, list_imgs=list_imgs[r])\n",
    "    predictions[r] = preds\n",
    "toc = time.time()\n",
    "print('It took %d sec' % (toc-tic))"
   ]
  },
  {
   "cell_type": "code",
   "execution_count": null,
   "metadata": {},
   "outputs": [],
   "source": [
    "imp.reload(metrics)"
   ]
  },
  {
   "cell_type": "code",
   "execution_count": null,
   "metadata": {},
   "outputs": [],
   "source": [
    "df_tot = pd.DataFrame()\n",
    "for rate in dico_img.keys():\n",
    "    a, df = metrics.compute_stats(data_dir, resized_annot[rate], predictions[rate])\n",
    "    df['Rate'] = rate\n",
    "    df_tot = pd.concat([df_tot, df])"
   ]
  },
  {
   "cell_type": "code",
   "execution_count": null,
   "metadata": {
    "scrolled": false
   },
   "outputs": [],
   "source": [
    "f, ax = plt.subplots(figsize=(8,5))\n",
    "\n",
    "df_tot = df_tot[df_tot.index != 28]\n",
    "x = list(df_tot.Rate.unique())\n",
    "y_bbox = []\n",
    "y_jaccard = []\n",
    "y_tb = []\n",
    "for r in x:\n",
    "    y_bbox.append(df_tot[df_tot.Rate == r].Nb_Pred_Bboxes.sum())\n",
    "    y_jaccard.append(df_tot[df_tot.Rate == r].mJaccard.mean())\n",
    "    y_tb.append(df_tot[df_tot.Rate == r].Nb_Truth_Bboxes.sum())\n",
    "\n",
    "ax.plot(x,y_bbox, 'r', label='Predicted')\n",
    "ax.plot(x,y_tb, 'r+', label='Ground Truth')\n",
    "ax.tick_params('y', colors='r')\n",
    "ax.set_ylabel('Number of Bouding Box', color='r')\n",
    "ax.legend()\n",
    "ax.set_xlabel('Image Scale')\n",
    "f.canvas.draw()\n",
    "ax.set_xticklabels(['1/'+item.get_text() for item in ax.get_xticklabels()])\n",
    "ax2 = ax.twinx()\n",
    "ax2.plot(x, y_jaccard, 'b')\n",
    "ax2.set_ylim([0,1])\n",
    "ax2.tick_params('y', colors='b')\n",
    "_ = ax2.set_ylabel('Mean Jaccard similarity', color='b')"
   ]
  },
  {
   "cell_type": "code",
   "execution_count": null,
   "metadata": {
    "scrolled": false
   },
   "outputs": [],
   "source": [
    "idx = 20\n",
    "rates = [1, 2, 4, 6]\n",
    "i = 0\n",
    "f_img = glob.glob(data_dir + '*')[idx]\n",
    "img = cv2.imread(f_img)[:,:,::-1]\n",
    "f,ax = plt.subplots(nrows=2, ncols=2,  figsize=(15,11), gridspec_kw={'wspace':0.1, 'hspace':0})\n",
    "\n",
    "\n",
    "for (r, img) in dico_img.items():\n",
    "    if r in rates:\n",
    "        ax[i//2, i%2].imshow(img[f_img.replace(data_folder, '')][:,:,::-1])\n",
    "        ax[i//2, i%2].set_title('Scale 1/%d, %d predictions' % (r, len(predictions[r][idx])))\n",
    "        for k in predictions[r][idx]:\n",
    "            x1, y1 = k[:2]\n",
    "            w, h = k[2] - k[0], k[3] - k[1]\n",
    "            rect = patches.Rectangle((x1,y1),w, h,linewidth=2,edgecolor='g',facecolor='none')\n",
    "            ax[i//2, i%2].add_patch(rect)\n",
    "        i += 1"
   ]
  },
  {
   "cell_type": "code",
   "execution_count": null,
   "metadata": {},
   "outputs": [],
   "source": []
  },
  {
   "cell_type": "code",
   "execution_count": null,
   "metadata": {},
   "outputs": [],
   "source": []
  },
  {
   "cell_type": "code",
   "execution_count": null,
   "metadata": {},
   "outputs": [],
   "source": []
  }
 ],
 "metadata": {
  "kernelspec": {
   "display_name": "Python 3 (ipykernel)",
   "language": "python",
   "name": "python3"
  },
  "language_info": {
   "codemirror_mode": {
    "name": "ipython",
    "version": 3
   },
   "file_extension": ".py",
   "mimetype": "text/x-python",
   "name": "python",
   "nbconvert_exporter": "python",
   "pygments_lexer": "ipython3",
   "version": "3.8.3"
  }
 },
 "nbformat": 4,
 "nbformat_minor": 2
}
